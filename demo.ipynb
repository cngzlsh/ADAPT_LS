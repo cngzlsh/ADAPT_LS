{
 "cells": [
  {
   "cell_type": "markdown",
   "id": "da3caa80",
   "metadata": {},
   "source": [
    "## Improving Lexical Simplification Using State of the Art Lexical Complexity Prediction Models\n",
    "#### Demo notebook\n",
    "This notebook provides a demonstration of simplifying sentence with multi-word expressions. It is tested on a system with the following specifications:\n",
    "<ol>\n",
    "    <li>OS: Linux x86-64</li>\n",
    "    <li>CPU: 3.30 Ghz x 8</li>\n",
    "    <li>RAM: 40 GiB</li>\n",
    "    <li>Hard Drive: 20 GiB</li>\n",
    "    <li>GPU: NVIDIA Corporation GA104M (CUDA compute capability: 8.6)</li>\n",
    " </ol>"
   ]
  },
  {
   "cell_type": "markdown",
   "id": "8a6cddf7",
   "metadata": {},
   "source": [
    "#### Run the following two cells to import packages and settings"
   ]
  },
  {
   "cell_type": "code",
   "execution_count": 1,
   "id": "9c293036",
   "metadata": {},
   "outputs": [],
   "source": [
    " # imports\n",
    "import numpy as np\n",
    "import torch\n",
    "from transformers import BertTokenizer\n",
    "from tqdm import tqdm\n",
    "import re\n",
    "import codecs\n",
    "import nltk\n",
    "\n",
    "from CWIs.complex_labeller import Complexity_labeller\n",
    "from plainifier.plainify import *\n",
    "\n",
    "import warnings\n",
    "warnings.filterwarnings('ignore')"
   ]
  },
  {
   "cell_type": "code",
   "execution_count": 2,
   "id": "d9d16d90",
   "metadata": {
    "scrolled": true
   },
   "outputs": [
    {
     "name": "stderr",
     "output_type": "stream",
     "text": [
      "2022-04-06 14:16:24.249694: I tensorflow/core/platform/cpu_feature_guard.cc:151] This TensorFlow binary is optimized with oneAPI Deep Neural Network Library (oneDNN) to use the following CPU instructions in performance-critical operations:  AVX2 AVX512F FMA\n",
      "To enable them in other operations, rebuild TensorFlow with the appropriate compiler flags.\n",
      "2022-04-06 14:16:24.253520: I tensorflow/stream_executor/cuda/cuda_gpu_executor.cc:936] successful NUMA node read from SysFS had negative value (-1), but there must be at least one NUMA node, so returning NUMA node zero\n",
      "2022-04-06 14:16:24.254557: I tensorflow/stream_executor/cuda/cuda_gpu_executor.cc:936] successful NUMA node read from SysFS had negative value (-1), but there must be at least one NUMA node, so returning NUMA node zero\n",
      "2022-04-06 14:16:24.254691: I tensorflow/stream_executor/cuda/cuda_gpu_executor.cc:936] successful NUMA node read from SysFS had negative value (-1), but there must be at least one NUMA node, so returning NUMA node zero\n",
      "2022-04-06 14:16:28.643009: I tensorflow/stream_executor/cuda/cuda_gpu_executor.cc:936] successful NUMA node read from SysFS had negative value (-1), but there must be at least one NUMA node, so returning NUMA node zero\n",
      "2022-04-06 14:16:28.643244: I tensorflow/stream_executor/cuda/cuda_gpu_executor.cc:936] successful NUMA node read from SysFS had negative value (-1), but there must be at least one NUMA node, so returning NUMA node zero\n",
      "2022-04-06 14:16:28.643377: I tensorflow/stream_executor/cuda/cuda_gpu_executor.cc:936] successful NUMA node read from SysFS had negative value (-1), but there must be at least one NUMA node, so returning NUMA node zero\n",
      "2022-04-06 14:16:28.644032: I tensorflow/core/common_runtime/gpu/gpu_device.cc:1525] Created device /job:localhost/replica:0/task:0/device:GPU:0 with 7982 MB memory:  -> device: 0, name: NVIDIA GeForce RTX 3070 Laptop GPU, pci bus id: 0000:01:00.0, compute capability: 8.6\n"
     ]
    }
   ],
   "source": [
    "# settings\n",
    "device = torch.device('cuda' if torch.cuda.is_available() else 'cpu')\n",
    "seed = 1234\n",
    "np.random.seed(seed)\n",
    "torch.manual_seed(seed)\n",
    "\n",
    "two_gram_mwes_list = './CWIs/2_gram_mwe_50.txt'\n",
    "three_gram_mwes_list = './CWIs/3_gram_mwe_25.txt'\n",
    "four_gram_mwes_list = './CWIs/4_gram_mwe_8.txt'\n",
    "pretrained_model_path = './CWIs/cwi_seq.model'\n",
    "temp_path = './CWIs/temp_file.txt'\n",
    "\n",
    "path = './plainifier/'\n",
    "premodel = 'bert-large-uncased-whole-word-masking'\n",
    "bert_dict = 'tersebert_pytorch_1_0.bin'\n",
    "embedding = 'crawl-300d-2M-subword.vec'\n",
    "unigram = 'unigrams-df.tsv'\n",
    "tokenizer = BertTokenizer.from_pretrained(premodel)\n",
    "Complexity_labeller_model = Complexity_labeller(pretrained_model_path, temp_path)"
   ]
  },
  {
   "cell_type": "code",
   "execution_count": 3,
   "id": "19f06e07",
   "metadata": {},
   "outputs": [
    {
     "name": "stderr",
     "output_type": "stream",
     "text": [
      "Some weights of the model checkpoint at bert-large-uncased-whole-word-masking were not used when initializing BertForMaskedLM: ['cls.seq_relationship.weight', 'cls.seq_relationship.bias']\n",
      "- This IS expected if you are initializing BertForMaskedLM from the checkpoint of a model trained on another task or with another architecture (e.g. initializing a BertForSequenceClassification model from a BertForPreTraining model).\n",
      "- This IS NOT expected if you are initializing BertForMaskedLM from the checkpoint of a model that you expect to be exactly identical (initializing a BertForSequenceClassification model from a BertForSequenceClassification model).\n"
     ]
    },
    {
     "name": "stdout",
     "output_type": "stream",
     "text": [
      "Loading Embeddings\n"
     ]
    },
    {
     "name": "stderr",
     "output_type": "stream",
     "text": [
      "100%|██████████████████████████████| 2000000/2000000 [01:29<00:00, 22424.49it/s]\n"
     ]
    },
    {
     "name": "stdout",
     "output_type": "stream",
     "text": [
      "Loaded Embeddings\n",
      "Loading Unigrams\n"
     ]
    },
    {
     "name": "stderr",
     "output_type": "stream",
     "text": [
      "100%|██████████████████████████████| 8394369/8394369 [05:52<00:00, 23831.34it/s]"
     ]
    },
    {
     "name": "stdout",
     "output_type": "stream",
     "text": [
      "Loaded Unigrams\n"
     ]
    },
    {
     "name": "stderr",
     "output_type": "stream",
     "text": [
      "\n"
     ]
    }
   ],
   "source": [
    "# loading bert model, word embeddings and unigrams. This process takes 7 minutes\n",
    "model, similm, tokenfreq, embeddings, vocabulary2 = load_all(path, premodel, bert_dict, embedding, unigram, tokenizer)"
   ]
  },
  {
   "cell_type": "markdown",
   "id": "93e320c1",
   "metadata": {},
   "source": [
    "#### Run the following cell to construct the sentence class"
   ]
  },
  {
   "cell_type": "code",
   "execution_count": 23,
   "id": "34422a6c",
   "metadata": {},
   "outputs": [],
   "source": [
    "class ComplexSentence:\n",
    "    # Sentence class\n",
    "    def __init__(self, sentence, label_model, tokeniser, verbose=True, alpha=(1/9, 4/9, 4/9)):\n",
    "        \n",
    "        # re handles special characters\n",
    "        sentence = re.sub(r'(?<!(\\s))([^a-zA-Z0-9\\s])', r' \\2', sentence)\n",
    "        self.sentence = re.sub(r'([^a-zA-Z0-9\\s])(?!(\\s))', r'\\1 ', sentence)\n",
    "        \n",
    "        self.tokenised_sentence = self.generate_tokenised_sentence()\n",
    "        \n",
    "        self.label_model = label_model\n",
    "        self.verbose = verbose\n",
    "        self.alpha = alpha\n",
    "\n",
    "        if self.verbose:\n",
    "            print(f'Untokenised sentence: {self.sentence}')\n",
    "        \n",
    "        self.label_complex_words()\n",
    "    \n",
    "    def generate_NER_filter(self, init=True):\n",
    "        # Generate case sensitive tokens\n",
    "        case_sensitive_tokens = nltk.tokenize.word_tokenize(self.sentence)\n",
    "        pos_tags = nltk.pos_tag(case_sensitive_tokens)\n",
    "        \n",
    "        list_of_NERs = []\n",
    "        for x in pos_tags:\n",
    "            if x[1] == 'NNP':\n",
    "                list_of_NERs.append(x[0].lower())\n",
    "        \n",
    "        # NER mask: np array, 0 if is_NER, 1 if not\n",
    "        NER_mask = np.ones_like(self.tokenised_sentence, dtype=np.int64)\n",
    "        for i in range(len(self.tokenised_sentence)):\n",
    "            if self.tokenised_sentence[i] in list_of_NERs:\n",
    "                NER_mask[i] = 0\n",
    "        assert len(NER_mask) == len(self.tokenised_sentence)\n",
    "        \n",
    "        if self.verbose:\n",
    "            if init and len(list_of_NERs) > 0:\n",
    "                print('Found NEs:', list_of_NERs)\n",
    "            elif init and len(list_of_NERs) == 0:\n",
    "                print('No NE found.')\n",
    "        return NER_mask\n",
    "        \n",
    "    def generate_tokenised_sentence(self):\n",
    "        tokens = tokeniseUntokenise(self.sentence, tokenizer)['tokens']\n",
    "        word_idx = tokeniseUntokenise(self.sentence, tokenizer)['words']\n",
    "        tokenised_sentence_list = []\n",
    "        for idx_list in word_idx:\n",
    "            if len(idx_list)==1:\n",
    "                tokenised_sentence_list.append(np.array(tokens)[idx_list[0]])\n",
    "            else:\n",
    "                word_untokenised = ''\n",
    "                for idx_list_untokenised in idx_list:\n",
    "                    word_untokenised += np.array(tokens)[idx_list_untokenised].replace('##', '')\n",
    "                tokenised_sentence_list.append(word_untokenised)\n",
    "        return tokenised_sentence_list\n",
    "    \n",
    "    def known_complexity(self):\n",
    "        tokens = tokeniseUntokenise(self.sentence, tokenizer)['tokens']\n",
    "        word_idx = tokeniseUntokenise(self.sentence, tokenizer)['words']\n",
    "        known_index = []\n",
    "        for idx_list in word_idx:\n",
    "            if len(idx_list)==1 and not re.match(r'^[_\\W]+$', tokens[idx_list[0]]):\n",
    "                #If known label as True\n",
    "                known_index.append(True)\n",
    "            else:\n",
    "                #If unknown label as False\n",
    "                known_index.append(False)\n",
    "        return known_index\n",
    "    \n",
    "    def label_complex_words(self, init=True):\n",
    "        \n",
    "        # applying complexity labeller to the sentence\n",
    "        Complexity_labeller.convert_format_string(self.label_model, self.sentence)\n",
    "        if init:\n",
    "            self.bin_labels = Complexity_labeller.get_bin_labels(self.label_model)[0]\n",
    "        self.probs = Complexity_labeller.get_prob_labels(self.label_model)\n",
    "        \n",
    "        # apply known complexity and NER mask\n",
    "        self.bin_labels = np.multiply(self.bin_labels, self.known_complexity())\n",
    "        self.bin_labels = np.multiply(self.bin_labels, self.generate_NER_filter(init=init))\n",
    "        self.probs = np.multiply(self.probs, self.known_complexity())\n",
    "        self.probs = np.multiply(self.probs, self.generate_NER_filter(init=False))\n",
    "        \n",
    "        self.is_complex = True if np.sum(self.bin_labels) >= 1 else False\n",
    "\n",
    "        self.complexity_ranking = np.argsort(np.array(self.bin_labels) * np.array(self.probs))[::-1]\n",
    "        self.most_complex_word = self.tokenised_sentence[self.complexity_ranking[0]]\n",
    "\n",
    "        if self.verbose and init:\n",
    "            print(f'Complex probs: {self.probs}')\n",
    "            print(f'Binary complexity labels: {self.bin_labels}')\n",
    "\n",
    "        if self.is_complex:\n",
    "            print(f'\\t Most complex word: {self.most_complex_word} \\n')\n",
    "\n",
    "        if not self.is_complex:\n",
    "            print(f'\\t Simplification complete or no complex expression found.\\n')\n",
    "    \n",
    "    def find_MWEs_w_most_complex_word(self, n_gram, filepath):\n",
    "        # finds the n-gram mwe of the most complex word in the sentence, if any\n",
    "        # returns: mwe positions or complex word positions\n",
    "        \n",
    "        complex_word_pos = self.complexity_ranking[0]\n",
    "\n",
    "        if complex_word_pos - n_gram + 1 > 0:\n",
    "            sliding_start = complex_word_pos - n_gram + 1\n",
    "        else:\n",
    "            sliding_start = 0\n",
    "        \n",
    "        if complex_word_pos + n_gram - 1 < len(self.complexity_ranking):\n",
    "            sliding_end = complex_word_pos\n",
    "        else:\n",
    "            sliding_end = len(self.complexity_ranking) - n_gram\n",
    "\n",
    "        with open(filepath, 'r') as f:\n",
    "            mwes = set(f.read().split('\\n')) # make set\n",
    "            avg_mwe_complexity = 0\n",
    "            for pos in range(sliding_start, sliding_end + 1):\n",
    "                possible_mwe = ' '.join(self.tokenised_sentence[pos: pos + n_gram])\n",
    "                \n",
    "                if possible_mwe in mwes:\n",
    "                    \n",
    "                    if np.mean(self.probs[pos:pos+n_gram]) > avg_mwe_complexity:\n",
    "                        avg_mwe_complexity = np.mean(self.probs[pos:pos+n_gram])\n",
    "                        valid_mwes_idx = np.arange(pos, pos+n_gram, 1)\n",
    "                        mwe_found = possible_mwe\n",
    "                    else:\n",
    "                        continue\n",
    "                        \n",
    "        if avg_mwe_complexity > 0:\n",
    "            self.idx_to_plainify = valid_mwes_idx\n",
    "        else:\n",
    "            self.idx_to_plainify = [complex_word_pos]\n",
    "        \n",
    "    \n",
    "    def find_all_ngram_mwes(self):\n",
    "        # returns: self.idx_to_plainify the indices of the longest mwe found\n",
    "        \n",
    "        if not self.is_complex:\n",
    "            raise ValueError('Sentence is not complex')\n",
    "        \n",
    "        # give priority to longer MWEs\n",
    "        n_gram_files = {2: two_gram_mwes_list, 3: three_gram_mwes_list, 4:four_gram_mwes_list}\n",
    "        \n",
    "        for n in reversed(range(2,5)):\n",
    "            self.find_MWEs_w_most_complex_word(n, n_gram_files[n])\n",
    "            \n",
    "            if len(self.idx_to_plainify) == n: # if such mwe is found\n",
    "                break\n",
    "    \n",
    "    def one_step_plainify(self):\n",
    "        idx_start = self.idx_to_plainify[0]\n",
    "        idx_end = self.idx_to_plainify[-1]+1\n",
    "        complex_word_name = \" \".join(self.tokenised_sentence[idx_start:idx_end])\n",
    "        print(f'Found complex word or expression: ### {complex_word_name} ###. Plainifying...')\n",
    "        processed_sentence = tokeniseUntokenise(self.sentence, tokenizer)\n",
    "        forward_result = getTokenReplacement(processed_sentence, idx_start, len(self.idx_to_plainify), \n",
    "                                  tokenizer, model, similm, tokenfreq, embeddings, vocabulary2,\n",
    "                                  verbose=False, backwards=False, maxDepth=3, maxBreadth=16, alpha=self.alpha)\n",
    "        backward_result = getTokenReplacement(processed_sentence, idx_start, len(self.idx_to_plainify),\n",
    "                                  tokenizer, model, similm, tokenfreq, embeddings, vocabulary2, \n",
    "                                  verbose=False, backwards=True, maxDepth=3, maxBreadth=16, alpha=self.alpha)\n",
    "        words, scores = aggregateResults((forward_result, backward_result))\n",
    "        words = [w.replace('#', '') for w in words]\n",
    "        print(f'Suggested top 5 subtitutions: {words[:5]}')\n",
    "        \n",
    "        return words[0].split(' ')\n",
    "        \n",
    "    \n",
    "    def sub_in_sentence(self, substitution):\n",
    "        # plugs a substitution in the sentence, then updates complexity scores\n",
    "        substitution_len = len(substitution)\n",
    "        \n",
    "        idx_start = self.idx_to_plainify[0]\n",
    "        idx_end = self.idx_to_plainify[-1]+1\n",
    "        \n",
    "        self.tokenised_sentence = self.tokenised_sentence[:idx_start] + substitution + self.tokenised_sentence[idx_end:]\n",
    "        self.sentence = ' '.join(self.tokenised_sentence)\n",
    "        self.bin_labels = list(self.bin_labels[:idx_start]) + [0] * substitution_len + list(self.bin_labels[idx_end:])\n",
    "        self.label_complex_words(init=False)\n",
    "        print(f'\\t Sentence after substitution: {self.sentence}\\n')\n",
    "        \n",
    "    def recursive_greedy_plainify(self, max_steps=float('inf'), test=False):\n",
    "        n = 1\n",
    "        sub_details_list = []\n",
    "        while self.is_complex and n <= max_steps:\n",
    "            self.find_all_ngram_mwes()\n",
    "            sub = self.one_step_plainify()\n",
    "            self.sub_in_sentence(sub)\n",
    "            #append subtitution details\n",
    "            sub_details = {\"iteration\":n,\"sub_word\":sub[0],\"idx_start\":self.idx_to_plainify[0],\"idx_end\":self.idx_to_plainify[-1]+1}\n",
    "            sub_details_list.append(sub_details)\n",
    "            n += 1\n",
    "        print(f'Simplification complete.')\n",
    "        2\n",
    "        if test:\n",
    "            return self.sentence, sub_details_list\n",
    "        else:\n",
    "            return self.sentence\n",
    "    \n",
    "    def recursive_beam_search_plainfy(self, beam_width):\n",
    "        pass"
   ]
  },
  {
   "cell_type": "code",
   "execution_count": 31,
   "id": "551bc3a4",
   "metadata": {},
   "outputs": [],
   "source": [
    "def simplify(sentence, verbose=False):\n",
    "    s = ComplexSentence(sentence, label_model=Complexity_labeller_model, tokeniser=tokenizer, verbose=verbose)\n",
    "    s.recursive_greedy_plainify()\n",
    "    return s.sentence"
   ]
  },
  {
   "cell_type": "markdown",
   "id": "53fa06fe",
   "metadata": {},
   "source": [
    "#### Example sentences\n",
    "Run each cell below to see output after lexical simplification."
   ]
  },
  {
   "cell_type": "code",
   "execution_count": 57,
   "id": "3da3e902",
   "metadata": {
    "scrolled": true
   },
   "outputs": [
    {
     "name": "stdout",
     "output_type": "stream",
     "text": [
      "Untokenised sentence: Graham went to Wheaton College from 1939 to 1943 , when he was awarded a ba in history . \n",
      "Found NEs: ['graham', 'wheaton', 'college']\n",
      "Complex probs: [0.00000000e+00 2.34588934e-03 6.54421019e-05 0.00000000e+00\n",
      " 0.00000000e+00 6.03280896e-05 1.30338268e-03 5.03345982e-05\n",
      " 2.68596783e-03 0.00000000e+00 1.17641684e-04 2.13565771e-04\n",
      " 1.34180140e-04 8.14972639e-01 1.67953229e-04 7.78222978e-01\n",
      " 4.95651366e-05 5.51919676e-02 0.00000000e+00]\n",
      "Binary complexity labels: [0 0 0 0 0 0 0 0 0 0 0 0 0 1 0 1 0 0 0]\n",
      "\t Most complex word: awarded \n",
      "\n",
      "Found complex word or expression: ### was awarded ###. Plainifying...\n",
      "Suggested top 5 subtitutions: ['received', 'took', 'obtained', 'completed', 'gained']\n",
      "\t Most complex word: ba \n",
      "\n",
      "\t Sentence after substitution: graham went to wheaton college from 1939 to 1943 , when he received a ba in history .\n",
      "\n",
      "Found complex word or expression: ### ba ###. Plainifying...\n",
      "Suggested top 5 subtitutions: ['degree', 'major', 'b', 'b .', 'double major']\n",
      "\t Simplification complete or no complex expression found.\n",
      "\n",
      "\t Sentence after substitution: graham went to wheaton college from 1939 to 1943 , when he received a degree in history .\n",
      "\n",
      "Simplification complete.\n"
     ]
    },
    {
     "data": {
      "text/plain": [
       "'graham went to wheaton college from 1939 to 1943 , when he received a degree in history .'"
      ]
     },
     "execution_count": 57,
     "metadata": {},
     "output_type": "execute_result"
    }
   ],
   "source": [
    "simplify(\"Graham went to Wheaton College from 1939 to 1943, when he was awarded a ba in history.\", verbose=True)"
   ]
  },
  {
   "cell_type": "code",
   "execution_count": 32,
   "id": "0ca8e3a2",
   "metadata": {
    "scrolled": true
   },
   "outputs": [
    {
     "name": "stdout",
     "output_type": "stream",
     "text": [
      "\t Most complex word: sip \n",
      "\n",
      "Found complex word or expression: ### took a sip of ###. Plainifying...\n",
      "Suggested top 5 subtitutions: ['took', 'had', 'finished', 'made', 'put down']\n",
      "\t Simplification complete or no complex expression found.\n",
      "\n",
      "\t Sentence after substitution: i took my coffee and kept working .\n",
      "\n",
      "Simplification complete.\n"
     ]
    },
    {
     "data": {
      "text/plain": [
       "'i took my coffee and kept working .'"
      ]
     },
     "execution_count": 32,
     "metadata": {},
     "output_type": "execute_result"
    }
   ],
   "source": [
    "simplify(\"I took a sip of my coffee and kept working.\")"
   ]
  },
  {
   "cell_type": "code",
   "execution_count": 58,
   "id": "fa9bb196",
   "metadata": {
    "scrolled": true
   },
   "outputs": [
    {
     "name": "stdout",
     "output_type": "stream",
     "text": [
      "\t Most complex word: inducted \n",
      "\n",
      "Found complex word or expression: ### was inducted into the ###. Plainifying...\n",
      "Suggested top 5 subtitutions: ['entered the', 'joined the', 'entered into the', 'entered', 'in']\n",
      "\t Simplification complete or no complex expression found.\n",
      "\n",
      "\t Sentence after substitution: in 1987 wexler entered the rock and roll hall of fame .\n",
      "\n",
      "Simplification complete.\n"
     ]
    },
    {
     "data": {
      "text/plain": [
       "'in 1987 wexler entered the rock and roll hall of fame .'"
      ]
     },
     "execution_count": 58,
     "metadata": {},
     "output_type": "execute_result"
    }
   ],
   "source": [
    "simplify(\"In 1987 Wexler was inducted into the Rock and Roll Hall of Fame.\")"
   ]
  },
  {
   "cell_type": "code",
   "execution_count": 34,
   "id": "e1313ec6",
   "metadata": {
    "scrolled": true
   },
   "outputs": [
    {
     "name": "stdout",
     "output_type": "stream",
     "text": [
      "\t Most complex word: synonymous \n",
      "\n",
      "Found complex word or expression: ### synonymous with ###. Plainifying...\n",
      "Suggested top 5 subtitutions: ['also called', 'also known as', 'not', 'also', 'the']\n",
      "\t Simplification complete or no complex expression found.\n",
      "\n",
      "\t Sentence after substitution: ammonia , which is also called anhydrous ammonia , is a colorless gas .\n",
      "\n",
      "Simplification complete.\n"
     ]
    },
    {
     "data": {
      "text/plain": [
       "'ammonia , which is also called anhydrous ammonia , is a colorless gas .'"
      ]
     },
     "execution_count": 34,
     "metadata": {},
     "output_type": "execute_result"
    }
   ],
   "source": [
    "simplify(\"Ammonia, which is synonymous with anhydrous ammonia, is a colorless gas.\")"
   ]
  },
  {
   "cell_type": "code",
   "execution_count": 48,
   "id": "4693a437",
   "metadata": {
    "scrolled": true
   },
   "outputs": [
    {
     "name": "stdout",
     "output_type": "stream",
     "text": [
      "\t Most complex word: guidelines \n",
      "\n",
      "Found complex word or expression: ### guidelines ###. Plainifying...\n",
      "Suggested top 5 subtitutions: ['rules', 'principles', 'laws', 'conditions', 'requirements']\n",
      "\t Most complex word: attending \n",
      "\n",
      "\t Sentence after substitution: both men and women must adhere to these rules when attending a meeting .\n",
      "\n",
      "Found complex word or expression: ### attending a ###. Plainifying...\n",
      "Suggested top 5 subtitutions: ['in a', 'at a', 'they are', 'making a', 'holding a']\n",
      "\t Most complex word: adhere \n",
      "\n",
      "\t Sentence after substitution: both men and women must adhere to these rules when in a meeting .\n",
      "\n",
      "Found complex word or expression: ### adhere to ###. Plainifying...\n",
      "Suggested top 5 subtitutions: ['follow', 'respect', 'observe', 'agree to', 'adhere to']\n",
      "\t Simplification complete or no complex expression found.\n",
      "\n",
      "\t Sentence after substitution: both men and women must follow these rules when in a meeting .\n",
      "\n",
      "Simplification complete.\n"
     ]
    },
    {
     "data": {
      "text/plain": [
       "'both men and women must follow these rules when in a meeting .'"
      ]
     },
     "execution_count": 48,
     "metadata": {},
     "output_type": "execute_result"
    }
   ],
   "source": [
    "simplify(\"Both men and women must adhere to these guidelines when attending a meeting.\")"
   ]
  },
  {
   "cell_type": "code",
   "execution_count": 35,
   "id": "76b85429",
   "metadata": {},
   "outputs": [
    {
     "ename": "NameError",
     "evalue": "name 'simplofy' is not defined",
     "output_type": "error",
     "traceback": [
      "\u001b[0;31m---------------------------------------------------------------------------\u001b[0m",
      "\u001b[0;31mNameError\u001b[0m                                 Traceback (most recent call last)",
      "\u001b[0;32m/tmp/ipykernel_13474/2560895046.py\u001b[0m in \u001b[0;36m<module>\u001b[0;34m\u001b[0m\n\u001b[1;32m      1\u001b[0m \u001b[0;31m# simplify your own sentence\u001b[0m\u001b[0;34m\u001b[0m\u001b[0;34m\u001b[0m\u001b[0m\n\u001b[1;32m      2\u001b[0m \u001b[0myour_own_sentence\u001b[0m \u001b[0;34m=\u001b[0m \u001b[0;34m\" \"\u001b[0m \u001b[0;31m# fill this in\u001b[0m\u001b[0;34m\u001b[0m\u001b[0;34m\u001b[0m\u001b[0m\n\u001b[0;32m----> 3\u001b[0;31m \u001b[0msimplofy\u001b[0m\u001b[0;34m(\u001b[0m\u001b[0myour_own_sentence\u001b[0m\u001b[0;34m)\u001b[0m\u001b[0;34m\u001b[0m\u001b[0;34m\u001b[0m\u001b[0m\n\u001b[0m",
      "\u001b[0;31mNameError\u001b[0m: name 'simplofy' is not defined"
     ]
    }
   ],
   "source": [
    "# simplify your own sentence\n",
    "your_own_sentence = \" \" # fill this in\n",
    "simplify(your_own_sentence)"
   ]
  },
  {
   "cell_type": "markdown",
   "id": "1285380f",
   "metadata": {},
   "source": [
    "### Tests\n",
    "Run any tests for hyperparameter tuning below."
   ]
  },
  {
   "cell_type": "code",
   "execution_count": null,
   "id": "fe013191",
   "metadata": {},
   "outputs": [],
   "source": []
  }
 ],
 "metadata": {
  "kernelspec": {
   "display_name": "Python 3 (ipykernel)",
   "language": "python",
   "name": "python3"
  },
  "language_info": {
   "codemirror_mode": {
    "name": "ipython",
    "version": 3
   },
   "file_extension": ".py",
   "mimetype": "text/x-python",
   "name": "python",
   "nbconvert_exporter": "python",
   "pygments_lexer": "ipython3",
   "version": "3.9.7"
  }
 },
 "nbformat": 4,
 "nbformat_minor": 5
}
